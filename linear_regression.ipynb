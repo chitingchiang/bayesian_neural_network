{
 "cells": [
  {
   "cell_type": "code",
   "execution_count": 1,
   "metadata": {},
   "outputs": [],
   "source": [
    "import numpy as np\n",
    "import numpy.random as npr\n",
    "import torch\n",
    "from torch.nn import functional as F\n",
    "from torch.distributions.normal import Normal\n",
    "from torch.optim import SGD, Adam\n",
    "from torch.optim.lr_scheduler import ReduceLROnPlateau, CyclicLR\n",
    "import matplotlib.pyplot as pt\n",
    "import copy\n",
    "\n",
    "from variational_dense import *"
   ]
  },
  {
   "cell_type": "code",
   "execution_count": 2,
   "metadata": {},
   "outputs": [],
   "source": [
    "def generate_data(n_data, x_min, x_max, weight, bias, noise):\n",
    "    n_dim = len(x_min)\n",
    "    x = npr.rand(n_data, n_dim)\n",
    "    for i in range(n_dim):\n",
    "        x[:, i] = x[:, i]*(x_max[i]-x_min[i])+x_min[i]\n",
    "    y1 = np.dot(x, weight)+bias+npr.randn(n_data)*noise\n",
    "    y2 = np.dot(x, weight)+bias+npr.randn(n_data)*noise\n",
    "    \n",
    "    return x, y1, y2"
   ]
  },
  {
   "cell_type": "code",
   "execution_count": 3,
   "metadata": {},
   "outputs": [
    {
     "data": {
      "image/png": "[encoded data removed]",
      "text/plain": [
       "<Figure size 432x288 with 1 Axes>"
      ]
     },
     "metadata": {
      "needs_background": "light"
     },
     "output_type": "display_data"
    }
   ],
   "source": [
    "n_data = 64\n",
    "x_min = [-4]\n",
    "x_max = [4]\n",
    "weight = [1.7]\n",
    "bias = -0.6\n",
    "noise = 1\n",
    "\n",
    "npr.seed(1234)\n",
    "x, y1, y2 = generate_data(n_data, x_min, x_max, weight, bias, noise)\n",
    "\n",
    "x_theo = np.array([x_min[0], x_max[0]])\n",
    "y_theo = weight[0]*x_theo+bias\n",
    "\n",
    "pt.figure(1)\n",
    "pt.plot(x_theo, y_theo, 'k-')\n",
    "pt.plot(x, y1, 'b.')\n",
    "pt.plot(x, y2, 'r.')\n",
    "pt.show()"
   ]
  },
  {
   "cell_type": "code",
   "execution_count": 4,
   "metadata": {},
   "outputs": [],
   "source": [
    "def fit_linear(x, y, Lambda_scale=0):\n",
    "    x_extend = np.hstack((x, np.ones((x.shape[0], 1))))\n",
    "    mat = np.einsum('ij, ik->jk', x_extend, x_extend)\n",
    "    for i in range(mat.shape[0]-1):\n",
    "        mat[i, i] += Lambda_scale\n",
    "    vec = np.dot(y, x_extend)\n",
    "    params = np.linalg.solve(mat, vec)\n",
    "    return params"
   ]
  },
  {
   "cell_type": "code",
   "execution_count": 5,
   "metadata": {},
   "outputs": [],
   "source": [
    "def fit_linear_bootstrap(x, y, Lambda_scale=0, n_bootstrap=100):\n",
    "    n_data = x.shape[0]\n",
    "    n_dim = x.shape[1]+1\n",
    "    params = np.zeros((n_bootstrap, n_dim))\n",
    "    for i in range(n_bootstrap):\n",
    "        idx_bootstrap = npr.choice(n_data, n_data)\n",
    "        x_bootstrap = x[idx_bootstrap]\n",
    "        y_bootstrap = y[idx_bootstrap]\n",
    "        params[i] = fit_linear(x_bootstrap, y_bootstrap, Lambda_scale=Lambda_scale)\n",
    "        \n",
    "    return np.mean(params, axis=0), np.std(params, axis=0, ddof=1)"
   ]
  },
  {
   "cell_type": "code",
   "execution_count": 6,
   "metadata": {},
   "outputs": [],
   "source": [
    "def fit_linear_theory_1d(x, y):\n",
    "    x = x.squeeze()\n",
    "    n_data = len(x)\n",
    "    x_avg = np.mean(x)\n",
    "    y_avg = np.mean(y)\n",
    "    SSxx = np.sum((x-x_avg)**2)\n",
    "    SSxy = np.sum((x-x_avg)*(y-y_avg))\n",
    "    w = SSxy/SSxx\n",
    "    b = y_avg-w*x_avg\n",
    "    SSE = np.sum((y-(w*x+b))**2)\n",
    "    w_std = np.sqrt(SSE/(n_data-2)/SSxx)\n",
    "    b_std = np.sqrt(SSE/(n_data-2)*(1/n_data+x_avg**2/SSxx))\n",
    "    return [w, b], [w_std, b_std]"
   ]
  },
  {
   "cell_type": "code",
   "execution_count": 7,
   "metadata": {},
   "outputs": [],
   "source": [
    "def fit_variational_linear(x, y1, y2, y_noise, Lambda=0, init_sigma=0.5,\n",
    "                           lr_min=1e-5, lr_max=1e-3, n_batch=1, n_epoch=100):\n",
    "    model = VariationalLinear(in_features=x.shape[1],\n",
    "                              out_features=1,\n",
    "                              init_sigma=init_sigma)\n",
    "    \n",
    "    x_train = torch.from_numpy(x.astype(np.float32))\n",
    "    y_train = torch.from_numpy(y1.astype(np.float32)).view(-1, 1)\n",
    "    y_valid = torch.from_numpy(y2.astype(np.float32)).view(-1, 1)\n",
    "\n",
    "    n_data = x_train.size()[0]\n",
    "    n_step = np.int(np.ceil(n_data/n_batch))\n",
    "    \n",
    "    optimizer = Adam(model.parameters(), lr=lr_min)\n",
    "    scheduler = CyclicLR(optimizer, base_lr=lr_min, max_lr=lr_max,\n",
    "                         step_size_up=1000, cycle_momentum=False)\n",
    "\n",
    "    if Lambda>0:\n",
    "        norm_prior = Normal(loc=0, scale=np.sqrt(1/Lambda))\n",
    "    \n",
    "    mse_train_history = []\n",
    "    mse_valid_history = []\n",
    "    mse_valid_min = np.inf\n",
    "    for j in range(n_epoch):\n",
    "        idx = npr.choice(n_data, n_data, replace=False)\n",
    "        for i in range(n_step):\n",
    "            idx_batch = idx[i*n_batch:(i+1)*n_batch]\n",
    "            x_batch = x_train[idx_batch]\n",
    "            y_train_batch = y_train[idx_batch]\n",
    "            y_valid_batch = y_valid[idx_batch]\n",
    "            \n",
    "            model.train(True)\n",
    "            yhat_batch, params_batch = model(x_batch)\n",
    "\n",
    "            norm_y_batch = Normal(loc=y_train_batch, scale=y_noise)\n",
    "            log_likelihood = torch.mean(norm_y_batch.log_prob(yhat_batch))*n_data\n",
    "            \n",
    "            norm_W = Normal(loc=params_batch[0], scale=params_batch[1])\n",
    "            norm_b = Normal(loc=params_batch[3], scale=params_batch[4])\n",
    "            log_varia_prob = torch.sum(norm_W.log_prob(params_batch[2])) \\\n",
    "                           + torch.sum(norm_b.log_prob(params_batch[5]))\n",
    "\n",
    "            loss = log_varia_prob-log_likelihood\n",
    "\n",
    "            if Lambda>0:\n",
    "                loss -= torch.sum(norm_prior.log_prob(params_batch[2]))\n",
    "\n",
    "            mse_train_history.append(torch.mean((yhat_batch-y_train_batch)**2).item())\n",
    "            mse_valid_history.append(torch.mean((yhat_batch-y_valid_batch)**2).item())\n",
    "            if mse_valid_history[-1]<mse_valid_min:\n",
    "                best_valid_model = copy.deepcopy(model)\n",
    "                mse_valid_min = mse_valid_history[-1]\n",
    "            \n",
    "            optimizer.zero_grad()\n",
    "            loss.backward()\n",
    "            torch.nn.utils.clip_grad_norm_(model.parameters(), 1e5)\n",
    "            optimizer.step()\n",
    "            scheduler.step()\n",
    "\n",
    "    return best_valid_model, model, mse_train_history, mse_valid_history"
   ]
  },
  {
   "cell_type": "code",
   "execution_count": 8,
   "metadata": {},
   "outputs": [
    {
     "name": "stdout",
     "output_type": "stream",
     "text": [
      "1 0.9989748266909462\n",
      "[ 1.67167925 -0.56197889] [0.04871872 0.12253597]\n",
      "[1.6734045011865197, -0.5615962331038936] [0.05662965667600486, 0.12649961953391095]\n"
     ]
    }
   ],
   "source": [
    "n_data = 64\n",
    "x_min = [-4]\n",
    "x_max = [4]\n",
    "weight = [1.7]\n",
    "bias = -0.6\n",
    "noise = 1\n",
    "\n",
    "npr.seed(1234)\n",
    "x, y1, y2 = generate_data(n_data, x_min, x_max, weight, bias, noise)\n",
    "y_true = np.dot(x, weight)+bias\n",
    "\n",
    "noise_obs = np.std(y1-y_true, ddof=1)\n",
    "print(noise, noise_obs)\n",
    "\n",
    "params_bs, params_std_bs = fit_linear_bootstrap(x, y1, n_bootstrap=1000)\n",
    "print(params_bs, params_std_bs)\n",
    "\n",
    "params_theo, params_std_theo = fit_linear_theory_1d(x, y1)\n",
    "print(params_theo, params_std_theo)"
   ]
  },
  {
   "cell_type": "code",
   "execution_count": 9,
   "metadata": {},
   "outputs": [
    {
     "name": "stdout",
     "output_type": "stream",
     "text": [
      "best validation model\n",
      "tensor([[1.6743]])\n",
      "tensor([-0.5451])\n",
      "tensor([[0.0564]])\n",
      "tensor([0.1178])\n",
      "\n",
      "last model\n",
      "tensor([[1.6742]])\n",
      "tensor([-0.5728])\n",
      "tensor([[0.0582]])\n",
      "tensor([0.1173])\n"
     ]
    }
   ],
   "source": [
    "lr_min = 1e-4\n",
    "lr_max = 1e-2\n",
    "init_sigma = 0.5\n",
    "n_epoch = 2000\n",
    "\n",
    "n_batch = n_data\n",
    "best_valid_model, last_model, mse_train_history, mse_valid_history = \\\n",
    "fit_variational_linear(x, y1, y2, y_noise=noise_obs,\n",
    "                       init_sigma=init_sigma,\n",
    "                       lr_min=lr_min, lr_max=lr_max,\n",
    "                       n_batch=n_batch, n_epoch=n_epoch)\n",
    "\n",
    "print('best validation model')\n",
    "for i, param in enumerate(best_valid_model.parameters()):\n",
    "    if i<2:\n",
    "        print(param.data)\n",
    "    else:\n",
    "        print(torch.abs(param.data))\n",
    "        \n",
    "print('\\nlast model')\n",
    "for i, param in enumerate(last_model.parameters()):\n",
    "    if i<2:\n",
    "        print(param.data)\n",
    "    else:\n",
    "        print(torch.abs(param.data))"
   ]
  },
  {
   "cell_type": "code",
   "execution_count": 10,
   "metadata": {},
   "outputs": [
    {
     "data": {
      "image/png": "[encoded data removed]",
      "text/plain": [
       "<Figure size 432x288 with 1 Axes>"
      ]
     },
     "metadata": {
      "needs_background": "light"
     },
     "output_type": "display_data"
    }
   ],
   "source": [
    "pt.figure(1)\n",
    "pt.yscale('log')\n",
    "pt.plot(np.arange(len(mse_train_history)), mse_train_history, 'r-', label='train')\n",
    "pt.plot(np.arange(len(mse_valid_history)), mse_valid_history, 'b--', label='valid')\n",
    "pt.legend(loc='upper right', frameon=False)\n",
    "pt.show()"
   ]
  },
  {
   "cell_type": "code",
   "execution_count": 11,
   "metadata": {},
   "outputs": [
    {
     "name": "stdout",
     "output_type": "stream",
     "text": [
      "0.1 0.09305022165078441\n",
      "[ 1.70287721  2.10048198 -0.58275064] [0.00336766 0.00366834 0.00824353]\n"
     ]
    }
   ],
   "source": [
    "n_data = 128\n",
    "x_min = [-4, -4]\n",
    "x_max = [4, 4]\n",
    "weight = [1.7, 2.1]\n",
    "bias = -0.6\n",
    "noise = 0.1\n",
    "\n",
    "npr.seed(1234)\n",
    "x, y1, y2 = generate_data(n_data, x_min, x_max, weight, bias, noise)\n",
    "y_true = np.dot(x, weight)+bias\n",
    "\n",
    "noise_obs = np.std(y1-y_true, ddof=1)\n",
    "print(noise, noise_obs)\n",
    "\n",
    "params_bs, params_std_bs = fit_linear_bootstrap(x, y1, n_bootstrap=1000)\n",
    "print(params_bs, params_std_bs)"
   ]
  },
  {
   "cell_type": "code",
   "execution_count": 14,
   "metadata": {},
   "outputs": [
    {
     "name": "stdout",
     "output_type": "stream",
     "text": [
      "best validation model\n",
      "tensor([[1.7030, 2.1005]])\n",
      "tensor([-0.5905])\n",
      "tensor([[0.0037, 0.0037]])\n",
      "tensor([0.0112])\n",
      "\n",
      "last model\n",
      "tensor([[1.7026, 2.1003]])\n",
      "tensor([-0.5813])\n",
      "tensor([[0.0036, 0.0034]])\n",
      "tensor([0.0077])\n"
     ]
    }
   ],
   "source": [
    "lr_min = 1e-4\n",
    "lr_max = 1e-2\n",
    "init_sigma = 0.5\n",
    "n_epoch = 2000\n",
    "\n",
    "n_batch = n_data\n",
    "best_valid_model, last_model, mse_train_history, mse_valid_history = \\\n",
    "fit_variational_linear(x, y1, y2, y_noise=noise_obs,\n",
    "                       init_sigma=init_sigma,\n",
    "                       lr_min=lr_min, lr_max=lr_max,\n",
    "                       n_batch=n_batch, n_epoch=n_epoch)\n",
    "\n",
    "print('best validation model')\n",
    "for i, param in enumerate(best_valid_model.parameters()):\n",
    "    if i<2:\n",
    "        print(param.data)\n",
    "    else:\n",
    "        print(torch.abs(param.data))\n",
    "        \n",
    "print('\\nlast model')\n",
    "for i, param in enumerate(last_model.parameters()):\n",
    "    if i<2:\n",
    "        print(param.data)\n",
    "    else:\n",
    "        print(torch.abs(param.data))"
   ]
  },
  {
   "cell_type": "code",
   "execution_count": 15,
   "metadata": {},
   "outputs": [
    {
     "data": {
      "image/png": "[encoded data removed]",
      "text/plain": [
       "<Figure size 432x288 with 1 Axes>"
      ]
     },
     "metadata": {
      "needs_background": "light"
     },
     "output_type": "display_data"
    }
   ],
   "source": [
    "pt.figure(1)\n",
    "pt.yscale('log')\n",
    "pt.plot(np.arange(len(mse_train_history)), mse_train_history, 'r-', label='train')\n",
    "pt.plot(np.arange(len(mse_valid_history)), mse_valid_history, 'b--', label='valid')\n",
    "pt.legend(loc='upper right', frameon=False)\n",
    "pt.show()"
   ]
  },
  {
   "cell_type": "code",
   "execution_count": 16,
   "metadata": {},
   "outputs": [
    {
     "name": "stdout",
     "output_type": "stream",
     "text": [
      "1 1.003895838591033\n",
      "[ 1.76542005  0.00353188 -0.57427735] [0.03929389 0.03327734 0.08829833]\n"
     ]
    }
   ],
   "source": [
    "n_data = 128\n",
    "x_min = [-4]\n",
    "x_max = [4]\n",
    "weight = [1.7]\n",
    "bias = -0.6\n",
    "noise = 1\n",
    "\n",
    "npr.seed(1234)\n",
    "x, y1, y2 = generate_data(n_data, x_min, x_max, weight, bias, noise)\n",
    "y_true = np.dot(x, weight)+bias\n",
    "x_random = npr.rand(n_data, 1)*(x_max[0]-x_min[0])+x_min[0]\n",
    "x = np.hstack((x, x_random))\n",
    "\n",
    "noise_obs = np.std(y1-y_true, ddof=1)\n",
    "print(noise, noise_obs)\n",
    "\n",
    "params_bs, params_std_bs = fit_linear_bootstrap(x, y1, n_bootstrap=1000)\n",
    "print(params_bs, params_std_bs)"
   ]
  },
  {
   "cell_type": "code",
   "execution_count": 17,
   "metadata": {},
   "outputs": [
    {
     "name": "stdout",
     "output_type": "stream",
     "text": [
      "best validation model\n",
      "tensor([[1.7692e+00, 1.1922e-03]])\n",
      "tensor([-0.5547])\n",
      "tensor([[0.0421, 0.0342]])\n",
      "tensor([0.0898])\n",
      "\n",
      "last model\n",
      "tensor([[1.7651e+00, 8.7477e-04]])\n",
      "tensor([-0.5810])\n",
      "tensor([[0.0408, 0.0369]])\n",
      "tensor([0.0858])\n"
     ]
    }
   ],
   "source": [
    "lr_min = 1e-4\n",
    "lr_max = 1e-2\n",
    "init_sigma = 0.5\n",
    "n_epoch = 2000\n",
    "\n",
    "n_batch = n_data\n",
    "best_valid_model, last_model, mse_train_history, mse_valid_history = \\\n",
    "fit_variational_linear(x, y1, y2, y_noise=noise_obs,\n",
    "                       init_sigma=init_sigma,\n",
    "                       lr_min=lr_min, lr_max=lr_max,\n",
    "                       n_batch=n_batch, n_epoch=n_epoch)\n",
    "\n",
    "\n",
    "print('best validation model')\n",
    "for i, param in enumerate(best_valid_model.parameters()):\n",
    "    if i<2:\n",
    "        print(param.data)\n",
    "    else:\n",
    "        print(torch.abs(param.data))\n",
    "        \n",
    "print('\\nlast model')\n",
    "for i, param in enumerate(last_model.parameters()):\n",
    "    if i<2:\n",
    "        print(param.data)\n",
    "    else:\n",
    "        print(torch.abs(param.data))"
   ]
  },
  {
   "cell_type": "code",
   "execution_count": 18,
   "metadata": {},
   "outputs": [
    {
     "data": {
      "image/png": "[encoded data removed]",
      "text/plain": [
       "<Figure size 432x288 with 1 Axes>"
      ]
     },
     "metadata": {
      "needs_background": "light"
     },
     "output_type": "display_data"
    }
   ],
   "source": [
    "pt.figure(1)\n",
    "pt.yscale('log')\n",
    "pt.plot(np.arange(len(mse_train_history)), mse_train_history, 'r-', label='train')\n",
    "pt.plot(np.arange(len(mse_valid_history)), mse_valid_history, 'b--', label='valid')\n",
    "pt.legend(loc='upper right', frameon=False)\n",
    "pt.show()"
   ]
  },
  {
   "cell_type": "code",
   "execution_count": 20,
   "metadata": {},
   "outputs": [
    {
     "name": "stdout",
     "output_type": "stream",
     "text": [
      "1 1.003895838591033\n",
      "[ 1.52352082 -0.52482072] [0.03867773 0.10078536]\n"
     ]
    }
   ],
   "source": [
    "n_data = 128\n",
    "x_min = [-4]\n",
    "x_max = [4]\n",
    "weight = [1.7]\n",
    "bias = -0.6\n",
    "noise = 1\n",
    "\n",
    "npr.seed(1234)\n",
    "x, y1, y2 = generate_data(n_data, x_min, x_max, weight, bias, noise)\n",
    "y_true = np.dot(x, weight)+bias\n",
    "\n",
    "noise_obs = np.std(y1-y_true, ddof=1)\n",
    "print(noise, noise_obs)\n",
    "\n",
    "Lambda = 1e2\n",
    "Lambda_scale = Lambda*noise_obs**2\n",
    "\n",
    "params_bs, params_std_bs = fit_linear_bootstrap(x, y1, Lambda_scale=Lambda_scale, n_bootstrap=1000)\n",
    "print(params_bs, params_std_bs)"
   ]
  },
  {
   "cell_type": "code",
   "execution_count": 21,
   "metadata": {},
   "outputs": [
    {
     "name": "stdout",
     "output_type": "stream",
     "text": [
      "best validation model\n",
      "tensor([[1.5265]])\n",
      "tensor([-0.5119])\n",
      "tensor([[0.0420]])\n",
      "tensor([0.0880])\n",
      "\n",
      "last model\n",
      "tensor([[1.5285]])\n",
      "tensor([-0.5330])\n",
      "tensor([[0.0366]])\n",
      "tensor([0.0882])\n"
     ]
    }
   ],
   "source": [
    "lr_min = 1e-4\n",
    "lr_max = 1e-2\n",
    "init_sigma = 0.5\n",
    "n_epoch = 2000\n",
    "\n",
    "n_batch = n_data\n",
    "best_valid_model, last_model, mse_train_history, mse_valid_history = \\\n",
    "fit_variational_linear(x, y1, y2, y_noise=noise_obs,\n",
    "                       Lambda=Lambda, init_sigma=init_sigma,\n",
    "                       lr_min=lr_min, lr_max=lr_max,\n",
    "                       n_batch=n_batch, n_epoch=n_epoch)\n",
    "\n",
    "print('best validation model')\n",
    "for i, param in enumerate(best_valid_model.parameters()):\n",
    "    if i<2:\n",
    "        print(param.data)\n",
    "    else:\n",
    "        print(torch.abs(param.data))\n",
    "        \n",
    "print('\\nlast model')\n",
    "for i, param in enumerate(last_model.parameters()):\n",
    "    if i<2:\n",
    "        print(param.data)\n",
    "    else:\n",
    "        print(torch.abs(param.data))"
   ]
  },
  {
   "cell_type": "code",
   "execution_count": 22,
   "metadata": {},
   "outputs": [
    {
     "data": {
      "image/png": "[encoded data removed]",
      "text/plain": [
       "<Figure size 432x288 with 1 Axes>"
      ]
     },
     "metadata": {
      "needs_background": "light"
     },
     "output_type": "display_data"
    }
   ],
   "source": [
    "pt.figure(1)\n",
    "pt.yscale('log')\n",
    "pt.plot(np.arange(len(mse_train_history)), mse_train_history, 'r-', label='train')\n",
    "pt.plot(np.arange(len(mse_valid_history)), mse_valid_history, 'b--', label='valid')\n",
    "pt.legend(loc='upper right', frameon=False)\n",
    "pt.show()"
   ]
  },
  {
   "cell_type": "code",
   "execution_count": null,
   "metadata": {},
   "outputs": [],
   "source": []
  }
 ],
 "metadata": {
  "kernelspec": {
   "display_name": "Python 3",
   "language": "python",
   "name": "python3"
  },
  "language_info": {
   "codemirror_mode": {
    "name": "ipython",
    "version": 3
   },
   "file_extension": ".py",
   "mimetype": "text/x-python",
   "name": "python",
   "nbconvert_exporter": "python",
   "pygments_lexer": "ipython3",
   "version": "3.7.6"
  }
 },
 "nbformat": 4,
 "nbformat_minor": 2
}
